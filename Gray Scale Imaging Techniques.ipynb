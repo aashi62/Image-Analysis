{
 "cells": [
  {
   "cell_type": "markdown",
   "id": "4c520016",
   "metadata": {},
   "source": [
    "# Average Method"
   ]
  },
  {
   "cell_type": "code",
   "execution_count": 5,
   "id": "99836ff1",
   "metadata": {},
   "outputs": [],
   "source": [
    "import numpy as np\n",
    "import cv2\n",
    "\n",
    "def average_method(img):\n",
    "    # Calculate the average of RGB channels\n",
    "    grayscale_img = np.mean(img, axis=2)\n",
    "\n",
    "    # Convert the grayscale image to uint8 datatype\n",
    "    grayscale_img = np.uint8(grayscale_img)\n",
    "\n",
    "    return grayscale_img\n",
    "\n",
    "# Read the color image\n",
    "color_img = cv2.imread('animated1.jpg')\n",
    "\n",
    "# Convert the color image to grayscale using the average method\n",
    "grayscale_img_avg = average_method(color_img)\n",
    "\n",
    "# Display the original and grayscale images\n",
    "cv2.imshow('Color Image', color_img)\n",
    "cv2.imshow('Grayscale Image (Average Method)', grayscale_img_avg)\n",
    "cv2.waitKey(0)\n",
    "cv2.destroyAllWindows()\n"
   ]
  },
  {
   "cell_type": "markdown",
   "id": "016ceed3",
   "metadata": {},
   "source": [
    "# Luminosity Method"
   ]
  },
  {
   "cell_type": "code",
   "execution_count": 4,
   "id": "c74c0be5",
   "metadata": {},
   "outputs": [],
   "source": [
    "import numpy as np\n",
    "import cv2\n",
    "\n",
    "def luminosity_method(img):\n",
    "    # Extracting the Red, Green, and Blue channels\n",
    "    R = img[:,:,0]\n",
    "    G = img[:,:,1]\n",
    "    B = img[:,:,2]\n",
    "\n",
    "    # Applying the luminosity method formula\n",
    "    grayscale_img = 0.21 * R + 0.72 * G + 0.07 * B\n",
    "\n",
    "    # Convert the grayscale image to uint8 datatype\n",
    "    grayscale_img = np.uint8(grayscale_img)\n",
    "\n",
    "    return grayscale_img\n",
    "\n",
    "# Read the color image\n",
    "color_img = cv2.imread('flower1.jpg')\n",
    "\n",
    "# Convert the color image to grayscale using the luminosity method\n",
    "grayscale_img_lum = luminosity_method(color_img)\n",
    "\n",
    "# Display the original and grayscale images\n",
    "cv2.imshow('Color Image', color_img)\n",
    "cv2.imshow('Grayscale Image (Luminosity Method)', grayscale_img_lum)\n",
    "cv2.waitKey(0)\n",
    "cv2.destroyAllWindows()\n"
   ]
  },
  {
   "cell_type": "markdown",
   "id": "1b7e2655",
   "metadata": {},
   "source": [
    "# Single Channel Method"
   ]
  },
  {
   "cell_type": "code",
   "execution_count": null,
   "id": "537b4c13",
   "metadata": {},
   "outputs": [],
   "source": [
    "import cv2\n",
    "\n",
    "# Read the color image\n",
    "color_img = cv2.imread('flower.jpg')\n",
    "\n",
    "green_channel = color_img[:,:,1]\n",
    "\n",
    "# Extract the red channel\n",
    "red_channel = color_img[:,:,2]\n",
    "\n",
    "# Extract the blue channel\n",
    "blue_channel = color_img[:,:,0]\n",
    "\n",
    "# Display the original and grayscale images\n",
    "cv2.imshow('Color Image', color_img)\n",
    "cv2.imshow('Grayscale Image (Single Channel - Green)', green_channel)\n",
    "cv2.imshow('Grayscale Image (Single Channel - Red)', red_channel)\n",
    "cv2.imshow('Grayscale Image (Single Channel - Blue)', blue_channel)\n",
    "cv2.waitKey(0)\n",
    "cv2.destroyAllWindows()\n"
   ]
  },
  {
   "cell_type": "code",
   "execution_count": null,
   "id": "67e3864f",
   "metadata": {},
   "outputs": [],
   "source": []
  }
 ],
 "metadata": {
  "kernelspec": {
   "display_name": "Python 3 (ipykernel)",
   "language": "python",
   "name": "python3"
  },
  "language_info": {
   "codemirror_mode": {
    "name": "ipython",
    "version": 3
   },
   "file_extension": ".py",
   "mimetype": "text/x-python",
   "name": "python",
   "nbconvert_exporter": "python",
   "pygments_lexer": "ipython3",
   "version": "3.9.12"
  }
 },
 "nbformat": 4,
 "nbformat_minor": 5
}
